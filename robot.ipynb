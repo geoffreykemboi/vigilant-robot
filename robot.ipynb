{
 "cells": [
  {
   "cell_type": "markdown",
   "id": "c100691f",
   "metadata": {},
   "source": [
    "\"\"\"\n",
    "Our main agenda is to upload/push  to Github\n",
    "\n",
    "Steps before pushing \n",
    " -  Git is initialized\n",
    "  \n",
    "     git init\n",
    "\n",
    "- stage our changes\n",
    "   \n",
    "   git add <argument>\n",
    "\n",
    "   #chnage for notebook alone\n",
    "   fit add robot.ipynb\n",
    "\n",
    "   #track all the files\n",
    "   git add .\n",
    "\n",
    "- Taking a snapshot with a label\n",
    "   git commit -m 'First Commit'\n",
    "\n",
    "- Uploading to Github\n",
    "    git push origin <name of your branch>\n",
    "\"\"\"\n",
    "\n",
    "\"git add remote origin \"url>\""
   ]
  },
  {
   "cell_type": "markdown",
   "id": "85a135d4",
   "metadata": {},
   "source": [
    "### Python file I/O\n",
    "Python's built in ways to opening/loading files.  ( Input and Output)\n",
    "\n",
    "'open()' -  is the dedicated function in python to load files\n",
    "...\n",
    "syntax:\n",
    "\n",
    "open(filename, mode)\n",
    "\n",
    "...\n",
    "\n",
    "**mode**\n",
    "\n",
    "* 'r' ---> read only\n",
    "* 'w' ---> write only (If fike exists its overwritten else if not exists , it creates a new one)\n",
    "* 'r+' ---> read and write\n",
    "* 'a' ---> append only (going to write new date at the end of the file without erasing existing)"
   ]
  },
  {
   "cell_type": "code",
   "execution_count": null,
   "id": "27f94852",
   "metadata": {},
   "outputs": [],
   "source": [
    "import pandas as pd\n",
    "\n",
    "pd.read_csv('./sample_csv').head()"
   ]
  },
  {
   "cell_type": "code",
   "execution_count": 5,
   "id": "8323826a",
   "metadata": {},
   "outputs": [
    {
     "name": "stdout",
     "output_type": "stream",
     "text": [
      "['.git', 'playlist.json', 'README.md', 'robot.ipynb', 'sample_csv']\n"
     ]
    }
   ],
   "source": [
    "import os\n",
    "print(os.listdir())  # Lists all files in the current directory"
   ]
  },
  {
   "cell_type": "code",
   "execution_count": 13,
   "id": "474c8f11",
   "metadata": {},
   "outputs": [
    {
     "data": {
      "text/plain": [
       "''"
      ]
     },
     "execution_count": 13,
     "metadata": {},
     "output_type": "execute_result"
    }
   ],
   "source": [
    "with open('playlist.json', 'r') as f:\n",
    "    data = json.load(f)\n",
    "    dt = f.read()\n",
    "\n",
    "dt  "
   ]
  },
  {
   "cell_type": "code",
   "execution_count": null,
   "id": "8fc51138",
   "metadata": {},
   "outputs": [],
   "source": [
    "## Exploring JSON"
   ]
  },
  {
   "cell_type": "code",
   "execution_count": 14,
   "id": "da4a6880",
   "metadata": {},
   "outputs": [
    {
     "data": {
      "text/plain": [
       "dict_items([('playlist_name', 'My_Jams'), ('created_by', 'Chacha'), ('tracks', [{'title': 'Stan', 'artist': 'Eminem', 'album': 'The Marshall Mathers LP', 'duration_sec': 405}, {'title': 'In Da Club', 'artist': '50 Cent', 'album': 'Get Rich or Die Tryin', 'duration_sec': 240}, {'title': 'Suzanna', 'artist': 'Sauti Sol', 'album': 'Midnight Train', 'duration_sec': 239}, {'title': 'Many Men', 'artist': '50 Cent', 'album': 'Get Rich or Die Tryin', 'duration_sec': 256}, {'title': 'Bad Liar', 'artist': 'Imagine Dragons', 'album': 'Origins', 'duration_sec': 243}])])"
      ]
     },
     "execution_count": 14,
     "metadata": {},
     "output_type": "execute_result"
    }
   ],
   "source": [
    "data.items()"
   ]
  },
  {
   "cell_type": "code",
   "execution_count": 15,
   "id": "ffef5405",
   "metadata": {},
   "outputs": [
    {
     "data": {
      "text/plain": [
       "dict_values(['My_Jams', 'Chacha', [{'title': 'Stan', 'artist': 'Eminem', 'album': 'The Marshall Mathers LP', 'duration_sec': 405}, {'title': 'In Da Club', 'artist': '50 Cent', 'album': 'Get Rich or Die Tryin', 'duration_sec': 240}, {'title': 'Suzanna', 'artist': 'Sauti Sol', 'album': 'Midnight Train', 'duration_sec': 239}, {'title': 'Many Men', 'artist': '50 Cent', 'album': 'Get Rich or Die Tryin', 'duration_sec': 256}, {'title': 'Bad Liar', 'artist': 'Imagine Dragons', 'album': 'Origins', 'duration_sec': 243}]])"
      ]
     },
     "execution_count": 15,
     "metadata": {},
     "output_type": "execute_result"
    }
   ],
   "source": [
    "data.values()"
   ]
  },
  {
   "cell_type": "code",
   "execution_count": null,
   "id": "473bdb0b",
   "metadata": {},
   "outputs": [],
   "source": []
  },
  {
   "cell_type": "markdown",
   "id": "3aa4828d",
   "metadata": {},
   "source": [
    "## Transforming JSON Schema\n",
    "Here we want to transform into a flatter structure, which we can use for analysis\n"
   ]
  },
  {
   "cell_type": "code",
   "execution_count": 16,
   "id": "05818aa0",
   "metadata": {},
   "outputs": [
    {
     "ename": "KeyError",
     "evalue": "'name'",
     "output_type": "error",
     "traceback": [
      "\u001b[1;31m---------------------------------------------------------------------------\u001b[0m",
      "\u001b[1;31mKeyError\u001b[0m                                  Traceback (most recent call last)",
      "\u001b[1;32m<ipython-input-16-5159b33e2231>\u001b[0m in \u001b[0;36m<module>\u001b[1;34m\u001b[0m\n\u001b[0;32m      7\u001b[0m \u001b[1;32mfor\u001b[0m \u001b[0mtrack\u001b[0m \u001b[1;32min\u001b[0m \u001b[0mdata\u001b[0m\u001b[1;33m[\u001b[0m\u001b[1;34m'tracks'\u001b[0m\u001b[1;33m]\u001b[0m\u001b[1;33m:\u001b[0m\u001b[1;33m\u001b[0m\u001b[1;33m\u001b[0m\u001b[0m\n\u001b[0;32m      8\u001b[0m     new_data.append({\n\u001b[1;32m----> 9\u001b[1;33m         \u001b[1;34m'track_name'\u001b[0m\u001b[1;33m:\u001b[0m \u001b[0mtrack\u001b[0m\u001b[1;33m[\u001b[0m\u001b[1;34m'name'\u001b[0m\u001b[1;33m]\u001b[0m\u001b[1;33m,\u001b[0m\u001b[1;33m\u001b[0m\u001b[1;33m\u001b[0m\u001b[0m\n\u001b[0m\u001b[0;32m     10\u001b[0m         \u001b[1;34m'artist_name'\u001b[0m\u001b[1;33m:\u001b[0m \u001b[0mtrack\u001b[0m\u001b[1;33m[\u001b[0m\u001b[1;34m'artist'\u001b[0m\u001b[1;33m]\u001b[0m\u001b[1;33m[\u001b[0m\u001b[1;34m'name'\u001b[0m\u001b[1;33m]\u001b[0m\u001b[1;33m,\u001b[0m\u001b[1;33m\u001b[0m\u001b[1;33m\u001b[0m\u001b[0m\n\u001b[0;32m     11\u001b[0m         \u001b[1;34m'album_name'\u001b[0m\u001b[1;33m:\u001b[0m \u001b[0mtrack\u001b[0m\u001b[1;33m[\u001b[0m\u001b[1;34m'album'\u001b[0m\u001b[1;33m]\u001b[0m\u001b[1;33m[\u001b[0m\u001b[1;34m'name'\u001b[0m\u001b[1;33m]\u001b[0m\u001b[1;33m,\u001b[0m\u001b[1;33m\u001b[0m\u001b[1;33m\u001b[0m\u001b[0m\n",
      "\u001b[1;31mKeyError\u001b[0m: 'name'"
     ]
    }
   ],
   "source": [
    "\"\"\"\n",
    "Load the JSON file,\n",
    "Iterate over the tracks and create a new list from the relevant fields\n",
    "Create a dataframe from the list of dicts\n",
    "\"\"\"\n",
    "new_data = []\n",
    "for track in data['tracks']:\n",
    "    new_data.append({\n",
    "        'track_name': track['name'],\n",
    "        'artist_name': track['artist']['name'],\n",
    "        'album_name': track['album']['name'],\n",
    "        'duration_ms': track['duration_ms'],\n",
    "        'popularity': track['popularity']\n",
    "    })"
   ]
  },
  {
   "cell_type": "code",
   "execution_count": 18,
   "id": "3a34a938",
   "metadata": {},
   "outputs": [
    {
     "ename": "NameError",
     "evalue": "name 'pd' is not defined",
     "output_type": "error",
     "traceback": [
      "\u001b[1;31m---------------------------------------------------------------------------\u001b[0m",
      "\u001b[1;31mNameError\u001b[0m                                 Traceback (most recent call last)",
      "\u001b[1;32m<ipython-input-18-256247a3a7f2>\u001b[0m in \u001b[0;36m<module>\u001b[1;34m\u001b[0m\n\u001b[0;32m      6\u001b[0m     \u001b[0mdata\u001b[0m \u001b[1;33m=\u001b[0m \u001b[0mjson\u001b[0m\u001b[1;33m.\u001b[0m\u001b[0mload\u001b[0m\u001b[1;33m(\u001b[0m\u001b[0mf\u001b[0m\u001b[1;33m)\u001b[0m\u001b[1;33m\u001b[0m\u001b[1;33m\u001b[0m\u001b[0m\n\u001b[0;32m      7\u001b[0m \u001b[1;33m\u001b[0m\u001b[0m\n\u001b[1;32m----> 8\u001b[1;33m \u001b[0mdf\u001b[0m \u001b[1;33m=\u001b[0m \u001b[0mpd\u001b[0m\u001b[1;33m.\u001b[0m\u001b[0mDataFrame\u001b[0m\u001b[1;33m(\u001b[0m\u001b[0mnew_data\u001b[0m\u001b[1;33m)\u001b[0m\u001b[1;33m\u001b[0m\u001b[1;33m\u001b[0m\u001b[0m\n\u001b[0m\u001b[0;32m      9\u001b[0m \u001b[0mdf\u001b[0m\u001b[1;33m.\u001b[0m\u001b[0mto_csv\u001b[0m\u001b[1;33m(\u001b[0m\u001b[1;34m'playlist.csv'\u001b[0m\u001b[1;33m,\u001b[0m \u001b[0mindex\u001b[0m\u001b[1;33m=\u001b[0m\u001b[1;32mFalse\u001b[0m\u001b[1;33m)\u001b[0m\u001b[1;33m\u001b[0m\u001b[1;33m\u001b[0m\u001b[0m\n",
      "\u001b[1;31mNameError\u001b[0m: name 'pd' is not defined"
     ]
    }
   ],
   "source": [
    "#using pandas to make it a csv\n",
    "import json\n",
    "\n",
    "\n",
    "with open('playlist.json', 'r') as f:\n",
    "    data = json.load(f)\n",
    "\n",
    "df = pd.DataFrame(new_data)\n",
    "df.to_csv('playlist.csv', index=False)    "
   ]
  },
  {
   "cell_type": "code",
   "execution_count": 19,
   "id": "54b5aa1d",
   "metadata": {},
   "outputs": [
    {
     "ename": "NameError",
     "evalue": "name 'tracks' is not defined",
     "output_type": "error",
     "traceback": [
      "\u001b[1;31m---------------------------------------------------------------------------\u001b[0m",
      "\u001b[1;31mNameError\u001b[0m                                 Traceback (most recent call last)",
      "\u001b[1;32m<ipython-input-19-3381b22960a3>\u001b[0m in \u001b[0;36m<module>\u001b[1;34m\u001b[0m\n\u001b[1;32m----> 1\u001b[1;33m \u001b[1;32mfor\u001b[0m \u001b[0mtrack\u001b[0m \u001b[1;32min\u001b[0m \u001b[0mtracks\u001b[0m\u001b[1;33m:\u001b[0m\u001b[1;33m\u001b[0m\u001b[1;33m\u001b[0m\u001b[0m\n\u001b[0m\u001b[0;32m      2\u001b[0m     flattened_tracks.append({\n\u001b[0;32m      3\u001b[0m         \u001b[1;34m'TITLE'\u001b[0m\u001b[1;33m:\u001b[0m \u001b[0mtrack\u001b[0m\u001b[1;33m[\u001b[0m\u001b[1;34m'title'\u001b[0m\u001b[1;33m]\u001b[0m\u001b[1;33m,\u001b[0m\u001b[1;33m\u001b[0m\u001b[1;33m\u001b[0m\u001b[0m\n\u001b[0;32m      4\u001b[0m         \u001b[1;34m'ARTIST'\u001b[0m\u001b[1;33m:\u001b[0m\u001b[0mtrack\u001b[0m\u001b[1;33m[\u001b[0m\u001b[1;34m'artist'\u001b[0m\u001b[1;33m]\u001b[0m\u001b[1;33m,\u001b[0m\u001b[1;33m\u001b[0m\u001b[1;33m\u001b[0m\u001b[0m\n\u001b[0;32m      5\u001b[0m         \u001b[1;34m'ALBUM'\u001b[0m\u001b[1;33m:\u001b[0m \u001b[0mtrack\u001b[0m\u001b[1;33m[\u001b[0m\u001b[1;34m'album'\u001b[0m\u001b[1;33m]\u001b[0m\u001b[1;33m,\u001b[0m\u001b[1;33m\u001b[0m\u001b[1;33m\u001b[0m\u001b[0m\n",
      "\u001b[1;31mNameError\u001b[0m: name 'tracks' is not defined"
     ]
    }
   ],
   "source": [
    "for track in tracks:\n",
    "    flattened_tracks.append({\n",
    "        'TITLE': track['title'],\n",
    "        'ARTIST':track['artist'],\n",
    "        'ALBUM': track['album'],\n",
    "        'LENGTH OF SONG': track['duration_sec'],\n",
    "        'LENGTH IN MIN' : round(track['duration_sec'] / 60 ,2)\n",
    "    })\n",
    "\n",
    "flattened_tracks"
   ]
  }
 ],
 "metadata": {
  "kernelspec": {
   "display_name": "Python (learn-env)",
   "language": "python",
   "name": "learn-env"
  },
  "language_info": {
   "codemirror_mode": {
    "name": "ipython",
    "version": 3
   },
   "file_extension": ".py",
   "mimetype": "text/x-python",
   "name": "python",
   "nbconvert_exporter": "python",
   "pygments_lexer": "ipython3",
   "version": "3.8.5"
  }
 },
 "nbformat": 4,
 "nbformat_minor": 5
}
