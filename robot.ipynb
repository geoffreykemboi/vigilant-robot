{
 "cells": [
  {
   "cell_type": "markdown",
   "id": "c100691f",
   "metadata": {},
   "source": [
    "\"\"\"\n",
    "Our main agenda is to upload/push  to Github\n",
    "\n",
    "Steps before pushing \n",
    " -  Git is initialized\n",
    "  \n",
    "     git init\n",
    "\n",
    "- stage our changes\n",
    "   \n",
    "   git add <argument>\n",
    "\n",
    "   #chnage for notebook alone\n",
    "   fit add robot.ipynb\n",
    "\n",
    "   #track all the files\n",
    "   git add .\n",
    "   git a\n",
    "\"\"\""
   ]
  },
  {
   "cell_type": "code",
   "execution_count": null,
   "id": "0800f07c",
   "metadata": {
    "vscode": {
     "languageId": "plaintext"
    }
   },
   "outputs": [],
   "source": []
  }
 ],
 "metadata": {
  "language_info": {
   "name": "python"
  }
 },
 "nbformat": 4,
 "nbformat_minor": 5
}
